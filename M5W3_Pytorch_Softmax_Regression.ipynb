{
  "nbformat": 4,
  "nbformat_minor": 0,
  "metadata": {
    "colab": {
      "provenance": [],
      "authorship_tag": "ABX9TyNwsYvs7vFY8/Pk7xi0URN4"
    },
    "kernelspec": {
      "name": "python3",
      "display_name": "Python 3"
    },
    "language_info": {
      "name": "python"
    }
  },
  "cells": [
    {
      "cell_type": "code",
      "execution_count": null,
      "metadata": {
        "id": "xXHvmjNHAR_e"
      },
      "outputs": [],
      "source": [
        "import torch\n",
        "from torch import nn\n",
        "import matplotlib.pyplot as plt\n",
        "from mpl_toolkits.mplot3d import axes3d\n",
        "import numpy as np"
      ]
    },
    {
      "cell_type": "code",
      "source": [
        "W = np.array([0.3, 1.2])\n",
        "b = 0.7\n",
        "\n",
        "W, b"
      ],
      "metadata": {
        "colab": {
          "base_uri": "https://localhost:8080/"
        },
        "id": "xhAPD541BJHK",
        "outputId": "7297b1d9-e26f-4364-d36c-0b15d0122384"
      },
      "execution_count": null,
      "outputs": [
        {
          "output_type": "execute_result",
          "data": {
            "text/plain": [
              "(array([0.3, 1.2]), 0.7)"
            ]
          },
          "metadata": {},
          "execution_count": 4
        }
      ]
    },
    {
      "cell_type": "code",
      "source": [
        "import torch\n",
        "data = [[1, 2], [3, 4]]\n",
        "x_data = torch.tensor(data)\n",
        "\n",
        "# Tensor với giá trị ngẫu nhiên từ phân phối chuẩn\n",
        "x_rand = torch.randn(2, 3)\n",
        "\n",
        "# Tensor với tất cả phần tử bằng 1\n",
        "x_ones = torch.ones(2, 3)\n",
        "\n",
        "# Tensor với tất cả phần tử bằng 0\n",
        "x_zeros = torch.zeros(2, 3)\n",
        "\n",
        "x_data, x_rand, x_ones, x_zeros"
      ],
      "metadata": {
        "colab": {
          "base_uri": "https://localhost:8080/"
        },
        "collapsed": true,
        "id": "ogm2hxo1BRp8",
        "outputId": "33473d67-8978-41ed-f608-be6bb4b288d0"
      },
      "execution_count": null,
      "outputs": [
        {
          "output_type": "execute_result",
          "data": {
            "text/plain": [
              "(tensor([[1, 2],\n",
              "         [3, 4]]),\n",
              " tensor([[-1.6668,  0.2100,  1.4686],\n",
              "         [-1.4920, -1.9278,  0.1607]]),\n",
              " tensor([[1., 1., 1.],\n",
              "         [1., 1., 1.]]),\n",
              " tensor([[0., 0., 0.],\n",
              "         [0., 0., 0.]]))"
            ]
          },
          "metadata": {},
          "execution_count": 7
        }
      ]
    },
    {
      "cell_type": "code",
      "source": [
        "print(x_data.shape, x_data. dtype, x_data. device)"
      ],
      "metadata": {
        "colab": {
          "base_uri": "https://localhost:8080/"
        },
        "id": "XNEA939WDNVZ",
        "outputId": "8e2614d2-c92f-4a4c-aad8-3c8871e47e70"
      },
      "execution_count": null,
      "outputs": [
        {
          "output_type": "stream",
          "name": "stdout",
          "text": [
            "torch.Size([2, 2]) torch.int64 cpu\n"
          ]
        }
      ]
    },
    {
      "cell_type": "code",
      "source": [
        "x = torch.tensor([[1, 2, 3], [4, 5, 6]])\n",
        "x_reshaped = x.view(3, 2)\n",
        "\n",
        "y = torch.tensor([[1, 2, 3], [4, 5, 6]])\n",
        "z = x + y\n",
        "\n",
        "x, x_reshaped, z"
      ],
      "metadata": {
        "colab": {
          "base_uri": "https://localhost:8080/"
        },
        "id": "nLw6YkUQDyTm",
        "outputId": "56f59636-2c3e-4a6e-9892-4af1250ecda5"
      },
      "execution_count": null,
      "outputs": [
        {
          "output_type": "execute_result",
          "data": {
            "text/plain": [
              "(tensor([[1, 2, 3],\n",
              "         [4, 5, 6]]),\n",
              " tensor([[1, 2],\n",
              "         [3, 4],\n",
              "         [5, 6]]),\n",
              " tensor([[ 2,  4,  6],\n",
              "         [ 8, 10, 12]]))"
            ]
          },
          "metadata": {},
          "execution_count": 4
        }
      ]
    },
    {
      "cell_type": "code",
      "source": [
        "# Check if CUDA is available\n",
        "if torch.cuda.is_available():\n",
        "    # If CUDA is available, move the tensor to the GPU\n",
        "    x_gpu = x.to('cuda')\n",
        "    # Check if the tensor is on the GPU\n",
        "    print(x_gpu.is_cuda)\n",
        "else:\n",
        "    # If CUDA is not available, print a message\n",
        "    print(\"CUDA is not available. The tensor will remain on the CPU.\")\n",
        "    # Assign x to x_gpu to avoid NameError in the next line\n",
        "    x_gpu = x\n",
        "\n",
        "# Now x_gpu is defined regardless of CUDA availability\n",
        "x_gpu.is_cuda"
      ],
      "metadata": {
        "colab": {
          "base_uri": "https://localhost:8080/"
        },
        "id": "TzQrE0hRE7Kg",
        "outputId": "18474e5c-ebc5-482f-db58-be24269fe5e0"
      },
      "execution_count": null,
      "outputs": [
        {
          "output_type": "stream",
          "name": "stdout",
          "text": [
            "True\n"
          ]
        },
        {
          "output_type": "execute_result",
          "data": {
            "text/plain": [
              "True"
            ]
          },
          "metadata": {},
          "execution_count": 5
        }
      ]
    }
  ]
}